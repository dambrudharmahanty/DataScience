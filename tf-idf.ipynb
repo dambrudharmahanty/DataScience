{
 "cells": [
  {
   "cell_type": "code",
   "execution_count": 1,
   "metadata": {},
   "outputs": [],
   "source": [
    "#Importing rqruired libraries\n",
    "import pandas as pd\n",
    "import numpy as np\n",
    "from tqdm import tqdm\n",
    "from collections import Counter\n",
    "from scipy.sparse import csr_matrix\n",
    "from sklearn.feature_extraction.text import TfidfVectorizer"
   ]
  },
  {
   "cell_type": "code",
   "execution_count": 8,
   "metadata": {},
   "outputs": [],
   "source": [
    "# Amazon product review\n",
    "#https://www.amazon.in/Girnar-Detox-Green-Desi-Kahwa/dp/B092W15FNN/ref=sr_1_11?crid=77VGUM2XZZ66&keywords=food%2Breview&qid=1663130729&sprefix=food%2Breview%2Caps%2C108&sr=8-11&th=1\n",
    "review_corpus = [\n",
    "     'this tea is tasty and healthy',\n",
    "     'good and tasty tea worth of money',\n",
    "     'great tea and tasty',\n",
    "     'true medicinal tea'\n",
    "]"
   ]
  },
  {
   "cell_type": "code",
   "execution_count": 9,
   "metadata": {},
   "outputs": [
    {
     "data": {
      "text/plain": [
       "['this tea is tasty and healthy',\n",
       " 'good and tasty tea worth of money',\n",
       " 'great tea and tasty',\n",
       " 'true medicinal tea']"
      ]
     },
     "execution_count": 9,
     "metadata": {},
     "output_type": "execute_result"
    }
   ],
   "source": [
    "review_corpus"
   ]
  },
  {
   "cell_type": "markdown",
   "metadata": {},
   "source": [
    "### SkLearn Implementation"
   ]
  },
  {
   "cell_type": "code",
   "execution_count": 75,
   "metadata": {},
   "outputs": [],
   "source": [
    "vectorizer = TfidfVectorizer()\n",
    "vectorizer.fit(review_corpus)\n",
    "skl_output = vectorizer.transform(review_corpus)"
   ]
  },
  {
   "cell_type": "code",
   "execution_count": 76,
   "metadata": {},
   "outputs": [
    {
     "name": "stdout",
     "output_type": "stream",
     "text": [
      "['and', 'good', 'great', 'healthy', 'is', 'medicinal', 'money', 'of', 'tasty', 'tea', 'this', 'true', 'worth']\n"
     ]
    }
   ],
   "source": [
    "# sklearn feature names, they are sorted in alphabetic order by default.\n",
    "print(vectorizer.get_feature_names())"
   ]
  },
  {
   "cell_type": "code",
   "execution_count": 77,
   "metadata": {},
   "outputs": [
    {
     "name": "stdout",
     "output_type": "stream",
     "text": [
      "[1.22314355 1.91629073 1.91629073 1.91629073 1.91629073 1.91629073\n",
      " 1.91629073 1.91629073 1.22314355 1.         1.91629073 1.91629073\n",
      " 1.91629073]\n"
     ]
    }
   ],
   "source": [
    "# Here we will print the sklearn tfidf vectorizer idf values after applying the fit method\n",
    "# After using the fit function on the review each vocab has its idf value.\n",
    "print(vectorizer.idf_)"
   ]
  },
  {
   "cell_type": "code",
   "execution_count": 81,
   "metadata": {},
   "outputs": [
    {
     "name": "stdout",
     "output_type": "stream",
     "text": [
      "(4, 13)\n"
     ]
    }
   ],
   "source": [
    "#row - total no (4) of documents in corpus\n",
    "#column-  No of distinct (13) vocab\n",
    "print(skl_output.shape)"
   ]
  },
  {
   "cell_type": "code",
   "execution_count": 79,
   "metadata": {},
   "outputs": [
    {
     "name": "stdout",
     "output_type": "stream",
     "text": [
      "  (0, 10)\t0.4946411955372537\n",
      "  (0, 9)\t0.258124295708245\n",
      "  (0, 8)\t0.3157230677330621\n",
      "  (0, 4)\t0.4946411955372537\n",
      "  (0, 3)\t0.4946411955372537\n",
      "  (0, 0)\t0.3157230677330621\n"
     ]
    }
   ],
   "source": [
    "# sklearn tfidf values for first line of the above corpus.\n",
    "# Here the output is a sparse matrix\n",
    "print(skl_output[0])"
   ]
  },
  {
   "cell_type": "code",
   "execution_count": 80,
   "metadata": {},
   "outputs": [
    {
     "name": "stdout",
     "output_type": "stream",
     "text": [
      "[[0.31572307 0.         0.         0.4946412  0.4946412  0.\n",
      "  0.         0.         0.31572307 0.2581243  0.4946412  0.\n",
      "  0.        ]]\n"
     ]
    }
   ],
   "source": [
    "# sklearn tfidf values for first line of the above corpus.\n",
    "# To understand the output better, here we are converting the sparse output matrix to dense matrix and printing it.\n",
    "# Notice that this output is normalized using L2 normalization. sklearn does this by default.\n",
    "print(skl_output[0].toarray())"
   ]
  },
  {
   "cell_type": "code",
   "execution_count": 63,
   "metadata": {},
   "outputs": [],
   "source": [
    "from collections import Counter\n",
    "from tqdm import tqdm\n",
    "from scipy.sparse import csr_matrix\n",
    "import math\n",
    "import operator\n",
    "from sklearn.preprocessing import normalize\n",
    "import numpy as np"
   ]
  },
  {
   "cell_type": "markdown",
   "metadata": {},
   "source": [
    "<h3><strong>Fit method:</strong></h3>\n",
    "With this function, find all unique words in the data and assign a dimension-number to each unique word.\n",
    "\n",
    "Create a python dictionary to save all the unique words, such that the key of dictionary represents a unique word and the corresponding value represent it's dimension-number. Values are always sorted in ascending order.\n",
    "\n",
    "For example, if you have a review, __'how are you'__ then you can represent each unique word with a dimension_number as,\n",
    "dict = { 'are' : 0, 'how' : 1, 'you' : 2}\n",
    "Similar to bagofwords"
   ]
  },
  {
   "cell_type": "code",
   "execution_count": 15,
   "metadata": {},
   "outputs": [],
   "source": [
    "from tqdm import tqdm # tqdm is a library that helps us to visualize the runtime of for loop. refer this to know more about tqdm\n",
    "#https://tqdm.github.io/\n",
    "\n",
    "# it accepts only list of sentances\n",
    "def fit(dataset):    \n",
    "    unique_words = set() # at first we will initialize an empty set\n",
    "    # check if its list type or not\n",
    "    if isinstance(dataset, (list,)):\n",
    "        for row in dataset: # for each review in the dataset\n",
    "            for word in row.split(\" \"): # for each word in the review. #split method converts a string into list of words\n",
    "                if len(word) < 2:\n",
    "                    continue\n",
    "                unique_words.add(word)\n",
    "        unique_words = sorted(list(unique_words))\n",
    "        vocab = {j:i for i,j in enumerate(unique_words)}\n",
    "        \n",
    "        return vocab\n",
    "    else:\n",
    "        print(\"you need to pass list of sentance\")"
   ]
  },
  {
   "cell_type": "markdown",
   "metadata": {},
   "source": [
    "<h3><strong>Transform method:</strong></h3>\n",
    "In first part of transform which take input as dataset and vocab list and returns sparse matrix same as bagofwords"
   ]
  },
  {
   "cell_type": "code",
   "execution_count": 16,
   "metadata": {},
   "outputs": [],
   "source": [
    "def transform(dataset,vocab):\n",
    "    rows = []\n",
    "    columns = []\n",
    "    values = []\n",
    "    if isinstance(dataset, (list,)):\n",
    "        for idx, row in enumerate(tqdm(dataset)): # for each document in the dataset\n",
    "            # it will return a dict type object where key is the word and values is its frequency, {word:frequency}\n",
    "            word_freq = dict(Counter(row.split()))\n",
    "            # for every unique word in the document\n",
    "            for word, freq in word_freq.items():  # for each unique word in the review.                \n",
    "                if len(word) < 2:\n",
    "                    continue\n",
    "                # we will check if its there in the vocabulary that we build in fit() function\n",
    "                # dict.get() function will return the values, if the key doesn't exits it will return -1\n",
    "                col_index = vocab.get(word, -1) # retreving the dimension number of a word\n",
    "                # if the word exists\n",
    "                if col_index !=-1:\n",
    "                    # we are storing the index of the document\n",
    "                    rows.append(idx)\n",
    "                    # we are storing the dimensions of the word\n",
    "                    columns.append(col_index)\n",
    "                    # we are storing the frequency of the word\n",
    "                    values.append(freq)\n",
    "        return csr_matrix((values, (rows,columns)), shape=(len(dataset),len(vocab)))\n",
    "    else:\n",
    "        print(\"you need to pass list of strings\")"
   ]
  },
  {
   "cell_type": "markdown",
   "metadata": {},
   "source": [
    "<h3><strong>calculate tfi-df:</strong></h3>\n",
    "  <li> Below formula we use as per sklear documentation</li>\n",
    "  <br>          \n",
    " $IDF(t) = 1+\\log_{e}\\frac{1\\text{ }+\\text{ Total  number of documents in collection}} {1+\\text{Number of documents with term t in it}}.$\n",
    "        </li>   "
   ]
  },
  {
   "cell_type": "code",
   "execution_count": 49,
   "metadata": {},
   "outputs": [],
   "source": [
    "def calculate_tfidf(matrix):\n",
    "    total_rows=dense_matrix.shape[0]\n",
    "    total_cols=dense_matrix.shape[1]\n",
    "    idf = [[0 for x in range(total_cols)] for y in range(total_rows)] \n",
    "    tf= [[0 for x in range(total_cols)] for y in range(total_rows)] \n",
    "    tf_idf= [[0 for x in range(total_cols)] for y in range(total_rows)] \n",
    "    no_of_doc=total_rows\n",
    "    rows1 = []\n",
    "    columns1 = []\n",
    "    values1 = []\n",
    "    \n",
    "    for i in range(total_rows):\n",
    "        total_no_of_words_row=np.count_nonzero(matrix[i])\n",
    "        #print(\"Loop No : {} and total_no_of_words_row: {}\".format(i,total_no_of_words_row))\n",
    "        for  j in range(total_cols):\n",
    "            no_of_time_occ=matrix[i][j]\n",
    "            tf[i][j]=no_of_time_occ/total_no_of_words_row\n",
    "            total_no_of_words_col=np.count_nonzero(matrix[:,j])\n",
    "            idf[i][j]=1+math.log((1+no_of_doc)/(1+total_no_of_words_col))\n",
    "            tf_idf[i][j]=tf[i][j]*idf[i][j]\n",
    "            if (math.isnan(tf_idf[i][j])):\n",
    "                tf_idf[i][j]=0\n",
    "            if (tf_idf[i][j] !=0):\n",
    "                values1.append(tf_idf[i][j])\n",
    "                rows1.append(i)\n",
    "                columns1.append(j)\n",
    "        \n",
    "    \n",
    "    return csr_matrix((values1, (rows1,columns1)), shape=(total_rows,total_cols)),idf,tf,tf_idf"
   ]
  },
  {
   "cell_type": "code",
   "execution_count": 87,
   "metadata": {},
   "outputs": [
    {
     "name": "stderr",
     "output_type": "stream",
     "text": [
      "100%|████████████████████████████████████████████████████████████████████████████████████████████| 4/4 [00:00<?, ?it/s]\n"
     ]
    }
   ],
   "source": [
    "vocab = fit(review_corpus)\n",
    "saprse_matrix=transform(review_corpus, vocab)\n",
    "dense_matrix=saprse_matrix.toarray()\n",
    "tf_idf_s,idf_d,tf_d,tf_idf_d=calculate_tfidf(dense_matrix)\n",
    "#Normalization of sparse matrix values\n",
    "norm_val=normalize(tf_idf_s, norm='l2',axis=1, return_norm=False)"
   ]
  },
  {
   "cell_type": "markdown",
   "metadata": {},
   "source": [
    "<h3><strong>Comparision:</strong></h3>"
   ]
  },
  {
   "cell_type": "code",
   "execution_count": 141,
   "metadata": {},
   "outputs": [
    {
     "name": "stdout",
     "output_type": "stream",
     "text": [
      "['and', 'good', 'great', 'healthy', 'is', 'medicinal', 'money', 'of', 'tasty', 'tea', 'this', 'true', 'worth']\n",
      "**************************************************************************************************************\n",
      "['and', 'good', 'great', 'healthy', 'is', 'medicinal', 'money', 'of', 'tasty', 'tea', 'this', 'true', 'worth']\n"
     ]
    }
   ],
   "source": [
    "print(list(vocab.keys()))\n",
    "print(\"*\"*110)\n",
    "print(vectorizer.get_feature_names())"
   ]
  },
  {
   "cell_type": "code",
   "execution_count": 142,
   "metadata": {},
   "outputs": [
    {
     "name": "stdout",
     "output_type": "stream",
     "text": [
      "[1.2231435513142097, 1.916290731874155, 1.916290731874155, 1.916290731874155, 1.916290731874155, 1.916290731874155, 1.916290731874155, 1.916290731874155, 1.2231435513142097, 1.0, 1.916290731874155, 1.916290731874155, 1.916290731874155]\n",
      "************************************************************************************************************************\n",
      "[1.22314355 1.91629073 1.91629073 1.91629073 1.91629073 1.91629073\n",
      " 1.91629073 1.91629073 1.22314355 1.         1.91629073 1.91629073\n",
      " 1.91629073]\n"
     ]
    }
   ],
   "source": [
    "#sklearn values are more roundof of 8 decimal points\n",
    "print(idf_d[0])\n",
    "print(\"*\"*120)\n",
    "print(vectorizer.idf_)"
   ]
  },
  {
   "cell_type": "code",
   "execution_count": 138,
   "metadata": {},
   "outputs": [
    {
     "name": "stdout",
     "output_type": "stream",
     "text": [
      "(4, 13)\n",
      "**************************************************\n",
      "(4, 13)\n"
     ]
    }
   ],
   "source": [
    "print(dense_matrix.shape)\n",
    "print(\"*\"*50)\n",
    "print(skl_output.shape)"
   ]
  },
  {
   "cell_type": "code",
   "execution_count": 137,
   "metadata": {},
   "outputs": [
    {
     "name": "stdout",
     "output_type": "stream",
     "text": [
      "  (0, 0)\t0.3157230677330621\n",
      "  (0, 3)\t0.4946411955372538\n",
      "  (0, 4)\t0.4946411955372538\n",
      "  (0, 8)\t0.3157230677330621\n",
      "  (0, 9)\t0.2581242957082451\n",
      "  (0, 10)\t0.4946411955372538\n",
      "**************************************************\n",
      "  (0, 10)\t0.4946411955372537\n",
      "  (0, 9)\t0.258124295708245\n",
      "  (0, 8)\t0.3157230677330621\n",
      "  (0, 4)\t0.4946411955372537\n",
      "  (0, 3)\t0.4946411955372537\n",
      "  (0, 0)\t0.3157230677330621\n"
     ]
    }
   ],
   "source": [
    "#sparse matrix sequense is random but it s in same position so not any issue\n",
    "print(norm_val[0])\n",
    "print(\"*\"*50)\n",
    "print(skl_output[0])"
   ]
  },
  {
   "cell_type": "code",
   "execution_count": 132,
   "metadata": {},
   "outputs": [
    {
     "name": "stdout",
     "output_type": "stream",
     "text": [
      "[[0.31572307 0.         0.         0.4946412  0.4946412  0.\n",
      "  0.         0.         0.31572307 0.2581243  0.4946412  0.\n",
      "  0.        ]]\n",
      "************************************************************\n",
      "[[0.31572307 0.         0.         0.4946412  0.4946412  0.\n",
      "  0.         0.         0.31572307 0.2581243  0.4946412  0.\n",
      "  0.        ]]\n"
     ]
    }
   ],
   "source": [
    "print((norm_val[0].toarray()))\n",
    "print(\"*\"*60)\n",
    "print((skl_output[0].toarray()))"
   ]
  }
 ],
 "metadata": {
  "kernelspec": {
   "display_name": "Python 3 (ipykernel)",
   "language": "python",
   "name": "python3"
  },
  "language_info": {
   "codemirror_mode": {
    "name": "ipython",
    "version": 3
   },
   "file_extension": ".py",
   "mimetype": "text/x-python",
   "name": "python",
   "nbconvert_exporter": "python",
   "pygments_lexer": "ipython3",
   "version": "3.9.13"
  }
 },
 "nbformat": 4,
 "nbformat_minor": 4
}
