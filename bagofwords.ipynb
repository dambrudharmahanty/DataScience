{
 "cells": [
  {
   "cell_type": "code",
   "execution_count": 136,
   "metadata": {},
   "outputs": [],
   "source": [
    "#Importing rqruired libraries\n",
    "import pandas as pd\n",
    "import numpy as np\n",
    "from tqdm import tqdm\n",
    "from collections import Counter\n",
    "from scipy.sparse import csr_matrix"
   ]
  },
  {
   "cell_type": "code",
   "execution_count": 137,
   "metadata": {},
   "outputs": [],
   "source": [
    "# Amazon product review\n",
    "#https://www.amazon.in/Girnar-Detox-Green-Desi-Kahwa/dp/B092W15FNN/ref=sr_1_11?crid=77VGUM2XZZ66&keywords=food%2Breview&qid=1663130729&sprefix=food%2Breview%2Caps%2C108&sr=8-11&th=1\n",
    "#Converted reviews to lower case\n",
    "review1 = \"one can replace harmful tea with this healthy drink\"\n",
    "review2 = \"it is good taste and each taste is worth for money\"\n",
    "review3 = \"taste is great packaging was also good\"\n",
    "review4 = \"true medicinal value\"\n",
    "#review5 =\"this was recommended by a friend now I order the big box of 100 bags of other in my office to share\"\n",
    "#review6 =\"no doubt my desk has become the favourite spot for green tea lovers\""
   ]
  },
  {
   "cell_type": "markdown",
   "metadata": {},
   "source": [
    "<h3><strong>Fit method:</strong></h3>\n",
    "With this function, find all unique words in the data and assign a dimension-number to each unique word.\n",
    "\n",
    "Create a python dictionary to save all the unique words, such that the key of dictionary represents a unique word and the corresponding value represent it's dimension-number. Values are always sorted in ascending order.\n",
    "\n",
    "For example, if you have a review, __'how are you'__ then you can represent each unique word with a dimension_number as,\n",
    "dict = { 'are' : 0, 'how' : 1, 'you' : 2}"
   ]
  },
  {
   "cell_type": "code",
   "execution_count": 138,
   "metadata": {},
   "outputs": [],
   "source": [
    "#Accepts only list of sentances\n",
    "def fit(dataset):    \n",
    "    unique_words = set() # at first we will initialize an empty set\n",
    "    # check if its list type or not\n",
    "    if isinstance(dataset, (list,)):\n",
    "        for row in dataset: # for each review in the dataset\n",
    "            for word in row.split(\" \"): # for each word in the review. #split method converts a string into list of words\n",
    "                if len(word) < 2: # word greater length should be greated then one\n",
    "                    continue\n",
    "                unique_words.add(word)\n",
    "        unique_words = sorted(list(unique_words))\n",
    "        vocab = {j:i for i,j in enumerate(unique_words)}\n",
    "        \n",
    "        return vocab\n",
    "    else:\n",
    "        print(\"you need to pass list of sentance\")"
   ]
  },
  {
   "cell_type": "code",
   "execution_count": 139,
   "metadata": {},
   "outputs": [
    {
     "name": "stdout",
     "output_type": "stream",
     "text": [
      "{'also': 0, 'and': 1, 'can': 2, 'drink': 3, 'each': 4, 'for': 5, 'good': 6, 'great': 7, 'harmful': 8, 'healthy': 9, 'is': 10, 'it': 11, 'medicinal': 12, 'money': 13, 'one': 14, 'packaging': 15, 'replace': 16, 'taste': 17, 'tea': 18, 'this': 19, 'true': 20, 'value': 21, 'was': 22, 'with': 23, 'worth': 24}\n"
     ]
    }
   ],
   "source": [
    "whole_string=[review1,review2,review3,review4]\n",
    "vocab = fit(whole_string)\n",
    "print(vocab)"
   ]
  },
  {
   "cell_type": "markdown",
   "metadata": {},
   "source": [
    "<h3><strong>Transform method:</strong></h3>\n",
    "With this function, we will write a feature matrix using sprase matrix."
   ]
  },
  {
   "cell_type": "code",
   "execution_count": 140,
   "metadata": {},
   "outputs": [],
   "source": [
    "# Return value in sparse matrix format\n",
    "def transform(dataset,vocab):\n",
    "    rows = []\n",
    "    columns = []\n",
    "    values = []\n",
    "    if isinstance(dataset, (list,)):\n",
    "        for idx, row in enumerate(tqdm(dataset)): # for each document in the dataset\n",
    "            # it will return a dict type object where key is the word and values is its frequency, {word:frequency}\n",
    "            word_freq = dict(Counter(row.split()))\n",
    "            # for every unique word in the document\n",
    "            for word, freq in word_freq.items():  # for each unique word in the review.                \n",
    "                if len(word) < 2:\n",
    "                    continue\n",
    "                # we will check if its there in the vocabulary that we build in fit() function\n",
    "                # dict.get() function will return the values, if the key doesn't exits it will return -1\n",
    "                col_index = vocab.get(word, -1) # retreving the dimension number of a word\n",
    "                # if the word exists\n",
    "                if col_index !=-1:\n",
    "                    # we are storing the index of the document\n",
    "                    rows.append(idx)\n",
    "                    # we are storing the dimensions of the word\n",
    "                    columns.append(col_index)\n",
    "                    # we are storing the frequency of the word\n",
    "                    values.append(freq)\n",
    "        return csr_matrix((values, (rows,columns)), shape=(len(dataset),len(vocab)))\n",
    "    else:\n",
    "        print(\"you need to pass list of strings\")"
   ]
  },
  {
   "cell_type": "code",
   "execution_count": 141,
   "metadata": {},
   "outputs": [
    {
     "name": "stderr",
     "output_type": "stream",
     "text": [
      "100%|██████████████████████████████████████████████████████████████████████████████████| 4/4 [00:00<00:00, 3961.56it/s]"
     ]
    },
    {
     "name": "stdout",
     "output_type": "stream",
     "text": [
      "['also', 'and', 'can', 'drink', 'each', 'for', 'good', 'great', 'harmful', 'healthy', 'is', 'it', 'medicinal', 'money', 'one', 'packaging', 'replace', 'taste', 'tea', 'this', 'true', 'value', 'was', 'with', 'worth']\n",
      "[[0 0 1 1 0 0 0 0 1 1 0 0 0 0 1 0 1 0 1 1 0 0 0 1 0]\n",
      " [0 1 0 0 1 1 1 0 0 0 2 1 0 1 0 0 0 2 0 0 0 0 0 0 1]\n",
      " [1 0 0 0 0 0 1 1 0 0 1 0 0 0 0 1 0 1 0 0 0 0 1 0 0]\n",
      " [0 0 0 0 0 0 0 0 0 0 0 0 1 0 0 0 0 0 0 0 1 1 0 0 0]]\n"
     ]
    },
    {
     "name": "stderr",
     "output_type": "stream",
     "text": [
      "\n"
     ]
    }
   ],
   "source": [
    "print(list(vocab.keys()))\n",
    "bow_0=transform(whole_string, vocab).toarray()\n",
    "print(bow_0)"
   ]
  },
  {
   "cell_type": "markdown",
   "metadata": {},
   "source": [
    "<h3>Results using countvectorizer</h3>"
   ]
  },
  {
   "cell_type": "code",
   "execution_count": 142,
   "metadata": {},
   "outputs": [
    {
     "name": "stdout",
     "output_type": "stream",
     "text": [
      "[[0 0 1 1 0 0 0 0 1 1 0 0 0 0 1 0 1 0 1 1 0 0 0 1 0]\n",
      " [0 1 0 0 1 1 1 0 0 0 2 1 0 1 0 0 0 2 0 0 0 0 0 0 1]\n",
      " [1 0 0 0 0 0 1 1 0 0 1 0 0 0 0 1 0 1 0 0 0 0 1 0 0]\n",
      " [0 0 0 0 0 0 0 0 0 0 0 0 1 0 0 0 0 0 0 0 1 1 0 0 0]]\n"
     ]
    }
   ],
   "source": [
    "from sklearn.feature_extraction.text import CountVectorizer\n",
    "\n",
    "vec = CountVectorizer(analyzer='word')\n",
    "\n",
    "vec.fit(whole_string)\n",
    "feature_matrix_2 = vec.transform(whole_string)\n",
    "bow_1=feature_matrix_2.toarray()\n",
    "print(bow_1)\n"
   ]
  },
  {
   "cell_type": "markdown",
   "metadata": {},
   "source": [
    "<h3>Comparing both matrices</h3>"
   ]
  },
  {
   "cell_type": "code",
   "execution_count": 143,
   "metadata": {},
   "outputs": [
    {
     "data": {
      "text/plain": [
       "True"
      ]
     },
     "execution_count": 143,
     "metadata": {},
     "output_type": "execute_result"
    }
   ],
   "source": [
    "np.array_equal(bow_0,bow_1)"
   ]
  }
 ],
 "metadata": {
  "kernelspec": {
   "display_name": "Python 3",
   "language": "python",
   "name": "python3"
  },
  "language_info": {
   "codemirror_mode": {
    "name": "ipython",
    "version": 3
   },
   "file_extension": ".py",
   "mimetype": "text/x-python",
   "name": "python",
   "nbconvert_exporter": "python",
   "pygments_lexer": "ipython3",
   "version": "3.7.6"
  }
 },
 "nbformat": 4,
 "nbformat_minor": 4
}
